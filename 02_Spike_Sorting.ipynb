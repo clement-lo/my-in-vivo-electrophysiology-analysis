{
 "cells": [
  {
   "cell_type": "code",
   "execution_count": null,
   "metadata": {},
   "outputs": [],
   "source": [
    "from sklearn.decomposition import PCA\n",
    "from sklearn.cluster import KMeans\n",
    "import matplotlib.pyplot as plt\n",
    "\n",
    "# Load the filtered data\n",
    "filtered_data = np.load('data/processed/filtered_data.npy')\n",
    "\n",
    "# Spike detection using thresholding\n",
    "threshold = 5 * np.std(filtered_data)  # Example threshold\n",
    "spike_indices = np.where(filtered_data < -threshold)[0]\n",
    "\n",
    "# Extract spike waveforms\n",
    "window_size = 30  # Number of samples before and after the spike event\n",
    "spike_waveforms = np.array([filtered_data[i-window_size:i+window_size] for i in spike_indices])\n",
    "\n",
    "# Feature extraction using PCA\n",
    "pca = PCA(n_components=2)\n",
    "spike_features = pca.fit_transform(spike_waveforms)\n",
    "\n",
    "# Clustering spikes using k-means\n",
    "kmeans = KMeans(n_clusters=3)  # Adjust clusters based on dataset\n",
    "labels = kmeans.fit_predict(spike_features)\n",
    "\n",
    "# Plot the clustered spikes in PCA space\n",
    "plt.figure(figsize=(10, 6))\n",
    "for label in np.unique(labels):\n",
    "    plt.scatter(spike_features[labels == label, 0], spike_features[labels == label, 1], label=f'Cluster {label}')\n",
    "plt.xlabel('PC 1')\n",
    "plt.ylabel('PC 2')\n",
    "plt.legend()\n",
    "plt.title('Spike Clustering using PCA and K-Means')\n",
    "plt.show()\n",
    "\n",
    "# Save the cluster labels and spike features\n",
    "np.save('data/processed/spike_features.npy', spike_features)\n",
    "np.save('data/processed/spike_labels.npy', labels)"
   ]
  }
 ],
 "metadata": {
  "language_info": {
   "name": "python"
  }
 },
 "nbformat": 4,
 "nbformat_minor": 2
}
