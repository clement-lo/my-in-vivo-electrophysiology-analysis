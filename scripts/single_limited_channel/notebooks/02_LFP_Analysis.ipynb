{
 "cells": [
  {
   "cell_type": "markdown",
   "metadata": {},
   "source": [
    "# Local Field Potential (LFP) Analysis\n",
    "\n",
    "## Overview\n",
    "\n",
    "This notebook provides a comprehensive guide to analyzing Local Field Potentials (LFPs) using Python. We will cover the entire pipeline from data loading and preprocessing to advanced analyses such as time-frequency analysis, coherence, and phase-amplitude coupling (PAC). The methods used here are commonly applied to understand oscillatory dynamics, neuronal interactions, and synchronization in the brain.\n",
    "\n",
    "### Objectives\n",
    "- Load and preprocess LFP data.\n",
    "- Perform time-frequency and coherence analysis.\n",
    "- Compute phase-amplitude coupling (PAC) metrics.\n",
    "- Visualize results for better interpretation.\n",
    "\n",
    "### Required Libraries\n",
    "- `neo`\n",
    "- `elephant`\n",
    "- `matplotlib`\n",
    "- `plotly`\n",
    "- `numpy`\n",
    "- `lfp_analysis` (custom module)\n",
    "\n",
    "Ensure these are installed before proceeding."
   ]
  },
  {
   "cell_type": "markdown",
   "metadata": {},
   "source": [
    "## Prerequisites and Installation\n",
    "\n",
    "Before running the notebook, ensure you have all the required libraries installed. If you haven't installed them yet, you can use the commands below."
   ]
  },
  {
   "cell_type": "code",
   "execution_count": null,
   "metadata": {},
   "outputs": [],
   "source": [
    "# Python Cell: Install necessary libraries\n",
    "%pip install neo elephant matplotlib plotly numpy"
   ]
  },
  {
   "cell_type": "markdown",
   "metadata": {},
   "source": [
    "## Data Loading and Inspection\n",
    "\n",
    "The first step in LFP analysis is to load the raw data. We will use `neo` to handle data formats commonly used in neuroscience, such as Neuralynx or NeuroExplorer files. The data is then converted into a format compatible with `elephant` for further analysis.\n"
   ]
  },
  {
   "cell_type": "code",
   "execution_count": null,
   "metadata": {},
   "outputs": [],
   "source": [
    "# Python Cell: Load data\n",
    "from lfp_analysis import load_data\n",
    "\n",
    "# Provide the path to your LFP data file\n",
    "file_path = 'data/sample_lfp_data'  # Replace with the actual data path\n",
    "\n",
    "# Load the LFP data\n",
    "recording = load_data(file_path)\n",
    "\n",
    "# Inspect the data\n",
    "print(f\"Data shape: {recording.get_traces().shape}\")\n",
    "print(f\"Sampling rate: {recording.get_sampling_frequency()} Hz\")\n"
   ]
  },
  {
   "cell_type": "markdown",
   "metadata": {},
   "source": [
    "## Preprocessing\n",
    "\n",
    "To improve the signal-to-noise ratio, we preprocess the LFP data using bandpass and notch filters. This step reduces noise and removes powerline interference."
   ]
  },
  {
   "cell_type": "code",
   "execution_count": null,
   "metadata": {},
   "outputs": [],
   "source": [
    "# Python Cell: Preprocess data\n",
    "from lfp_analysis import preprocess_data\n",
    "\n",
    "# Apply preprocessing: bandpass filter (1-100 Hz) and notch filter at 50 Hz\n",
    "preprocessed_data = preprocess_data(recording, freq_min=1, freq_max=100, notch_freq=50)\n",
    "\n",
    "# Plot the preprocessed signal\n",
    "import matplotlib.pyplot as plt\n",
    "\n",
    "plt.figure(figsize=(12, 4))\n",
    "plt.plot(preprocessed_data.get_times(), preprocessed_data.get_traces()[0])\n",
    "plt.xlabel('Time (s)')\n",
    "plt.ylabel('Amplitude (mV)')\n",
    "plt.title('Preprocessed LFP Signal')\n",
    "plt.show()"
   ]
  },
  {
   "cell_type": "markdown",
   "metadata": {},
   "source": [
    "## Time-Frequency Analysis\n",
    "\n",
    "Time-frequency analysis provides insights into the oscillatory components of the LFP signals. We use the Welch method to compute the power spectral density (PSD)."
   ]
  },
  {
   "cell_type": "code",
   "execution_count": null,
   "metadata": {},
   "outputs": [],
   "source": [
    "# Python Cell: Time-Frequency Analysis\n",
    "from lfp_analysis import time_frequency_analysis\n",
    "\n",
    "# Perform time-frequency analysis\n",
    "freqs, psd = time_frequency_analysis(preprocessed_data)\n",
    "\n",
    "# Plot Power Spectral Density (PSD)\n",
    "import plotly.express as px\n",
    "\n",
    "fig = px.line(x=freqs, y=psd, labels={'x': 'Frequency (Hz)', 'y': 'Power Spectral Density (PSD)'},\n",
    "              title='Power Spectral Density (PSD) of LFP')\n",
    "fig.show()"
   ]
  },
  {
   "cell_type": "markdown",
   "metadata": {},
   "source": [
    "## Coherence Analysis\n",
    "\n",
    "Coherence analysis quantifies the synchrony between two signals, which can provide insights into the functional connectivity between brain regions.\n"
   ]
  },
  {
   "cell_type": "code",
   "execution_count": null,
   "metadata": {},
   "outputs": [],
   "source": [
    "# Python Cell: Coherence Analysis\n",
    "from lfp_analysis import coherence_analysis\n",
    "\n",
    "# Assume we are comparing the same signal for simplicity in demonstration\n",
    "coherency, freqs_coherence = coherence_analysis(preprocessed_data, preprocessed_data)\n",
    "\n",
    "# Plot Coherence\n",
    "fig = px.line(x=freqs_coherence, y=coherency, labels={'x': 'Frequency (Hz)', 'y': 'Coherence'},\n",
    "              title='Coherence Analysis between Signals')\n",
    "fig.show()"
   ]
  },
  {
   "cell_type": "markdown",
   "metadata": {},
   "source": [
    "## Phase-Amplitude Coupling (PAC) Analysis\n",
    "\n",
    "PAC analysis measures how the phase of a lower frequency oscillation modulates the amplitude of a higher frequency oscillation, revealing cross-frequency interactions."
   ]
  },
  {
   "cell_type": "code",
   "execution_count": null,
   "metadata": {},
   "outputs": [],
   "source": [
    "# Python Cell: PAC Analysis\n",
    "from lfp_analysis import pac_analysis\n",
    "\n",
    "# Calculate PAC between theta (4-8 Hz) phase and gamma (30-100 Hz) amplitude\n",
    "pac_value = pac_analysis(preprocessed_data, (4, 8), (30, 100))\n",
    "print(f\"PAC Modulation Index: {pac_value}\")"
   ]
  },
  {
   "cell_type": "markdown",
   "metadata": {},
   "source": [
    "## Visualization of Results\n",
    "\n",
    "We will visualize the results using interactive plots provided by Plotly and static plots using Matplotlib."
   ]
  },
  {
   "cell_type": "code",
   "execution_count": null,
   "metadata": {},
   "outputs": [],
   "source": [
    "# Python Cell: Visualizations\n",
    "from lfp_analysis import plot_power_spectral_density, plot_coherence, plot_pac\n",
    "\n",
    "# Plot PSD\n",
    "plot_power_spectral_density(freqs, psd)\n",
    "\n",
    "# Plot Coherence\n",
    "plot_coherence(freqs_coherence, coherency)\n",
    "\n",
    "# Plot PAC\n",
    "plot_pac(pac_value)"
   ]
  },
  {
   "cell_type": "markdown",
   "metadata": {},
   "source": [
    "## Conclusion and Future Directions\n",
    "\n",
    "In this notebook, we covered the steps for performing LFP analysis, including preprocessing, time-frequency analysis, coherence analysis, and phase-amplitude coupling (PAC). These methods help in understanding the oscillatory dynamics and connectivity in the brain.\n",
    "\n",
    "### Future Directions\n",
    "- Explore more advanced connectivity measures like Granger Causality or Dynamic Causal Modeling.\n",
    "- Integrate machine learning techniques for automatic classification of LFP patterns.\n",
    "- Apply these analyses to different brain states or conditions to investigate neural correlates."
   ]
  }
 ],
 "metadata": {
  "language_info": {
   "name": "python"
  }
 },
 "nbformat": 4,
 "nbformat_minor": 2
}
