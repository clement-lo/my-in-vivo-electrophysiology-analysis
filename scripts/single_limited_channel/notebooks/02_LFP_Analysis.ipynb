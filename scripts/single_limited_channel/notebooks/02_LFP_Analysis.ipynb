{
 "cells": [
  {
   "cell_type": "markdown",
   "metadata": {},
   "source": [
    "# Local Field Potential (LFP) Analysis Notebook\n",
    "\n",
    "This notebook performs Local Field Potential (LFP) analysis using Python. We will cover:\n",
    "1. **Data Loading**: Using Neo and SpikeInterface for loading electrophysiological data.\n",
    "2. **Preprocessing**: Filtering and cleaning the data.\n",
    "3. **Time-Frequency Analysis**:\n",
    "   - Short-Time Fourier Transform (STFT)\n",
    "   - Wavelet Transform\n",
    "4. **Coherence Analysis**: Measuring coherence between LFP signals.\n",
    "5. **Phase-Amplitude Coupling (PAC)**: Analyzing coupling between low-frequency phase and high-frequency amplitude.\n",
    "6. **Cross-Frequency Coupling (CFC)**: Measuring interactions between oscillatory activities at different frequencies.\n",
    "7. **Visualization**: Plotting power spectral densities, coherence plots, and phase-amplitude coupling indices.\n",
    "\n",
    "We use established libraries such as **Neo**, **SpikeInterface**, **Elephant**, **SciPy**, and **PyWavelets**."
   ]
  },
  {
   "cell_type": "code",
   "execution_count": null,
   "metadata": {},
   "outputs": [],
   "source": [
    "# Import necessary libraries\n",
    "import neo  # For data handling\n",
    "import spikeinterface as si  # Core module for SpikeInterface\n",
    "import spikeinterface.extractors as se  # For data loading and extraction\n",
    "import spikeinterface.preprocessing as sp  # For data preprocessing\n",
    "import elephant  # For advanced LFP analysis\n",
    "import elephant.spectral as espt  # For spectral analysis\n",
    "import elephant.coherence as ecoh  # For coherence analysis\n",
    "import elephant.phase_analysis as ephase  # For PAC/CFC analysis\n",
    "import scipy.signal as signal  # For STFT and spectral methods\n",
    "import pywt  # For Wavelet Transform\n",
    "import quantities as pq  # For unit handling\n",
    "import matplotlib.pyplot as plt  # For static visualization\n",
    "import plotly.graph_objects as go  # For interactive visualization\n",
    "import numpy as np  # For numerical operations\n",
    "from neo.io import NeuralynxIO  # Example IO for Neo data loading\n",
    "\n",
    "# Set plot style\n",
    "plt.style.use('seaborn')\n",
    "\n",
    "# Define global parameters\n",
    "fs = 1000  # Example sampling frequency, replace with your dataset's value"
   ]
  },
  {
   "cell_type": "markdown",
   "metadata": {},
   "source": [
    "## Step 1: Load Data\n",
    "Load electrophysiological data using Neo and convert it to SpikeInterface format."
   ]
  },
  {
   "cell_type": "code",
   "execution_count": null,
   "metadata": {},
   "outputs": [],
   "source": [
    "# Data Handling Module\n",
    "def load_data(file_path):\n",
    "    \"\"\"\n",
    "    Load electrophysiological data using Neo and convert to SpikeInterface format.\n",
    "    \n",
    "    Args:\n",
    "    - file_path (str): Path to the file containing raw data.\n",
    "    \n",
    "    Returns:\n",
    "    - recording (si.BaseRecording): Loaded data in SpikeInterface's RecordingExtractor format.\n",
    "    \"\"\"\n",
    "    reader = NeuralynxIO(dirname=file_path)\n",
    "    block = reader.read_block()\n",
    "    segment = block.segments[0]\n",
    "    analog_signal = segment.analogsignals[0]\n",
    "    recording = se.NeoRecordingExtractor(analog_signal)\n",
    "    return recording\n",
    "\n",
    "# Example file path for demonstration\n",
    "file_path = 'data/sample_lfp_data'  # Adjust the path for your dataset\n",
    "\n",
    "# Load Data\n",
    "recording = load_data(file_path)\n",
    "print(\"Data loaded successfully.\")"
   ]
  },
  {
   "cell_type": "markdown",
   "metadata": {},
   "source": [
    "## Step 2: Preprocess Data\n",
    "Apply bandpass filtering and notch filtering to clean the LFP signals."
   ]
  },
  {
   "cell_type": "code",
   "execution_count": null,
   "metadata": {},
   "outputs": [],
   "source": [
    "# Preprocessing Module\n",
    "def preprocess_data(recording, freq_min=1, freq_max=100, notch_freq=None):\n",
    "    \"\"\"\n",
    "    Preprocess the loaded data by applying bandpass filtering and optional notch filtering.\n",
    "    \n",
    "    Args:\n",
    "    - recording (si.BaseRecording): Loaded data in SpikeInterface's RecordingExtractor format.\n",
    "    - freq_min (float): Minimum frequency for bandpass filter.\n",
    "    - freq_max (float): Maximum frequency for bandpass filter.\n",
    "    - notch_freq (float): Frequency for notch filter to remove powerline noise. If None, skip.\n",
    "    \n",
    "    Returns:\n",
    "    - recording_preprocessed (si.BaseRecording): Preprocessed LFP data.\n",
    "    \"\"\"\n",
    "    # Bandpass filter for LFP\n",
    "    recording_bp = sp.bandpass_filter(recording, freq_min=freq_min, freq_max=freq_max)\n",
    "    \n",
    "    # Optional notch filter\n",
    "    if notch_freq:\n",
    "        recording_notch = sp.notch_filter(recording_bp, freq=notch_freq)\n",
    "        return recording_notch\n",
    "    return recording_bp\n",
    "\n",
    "# Preprocess Data\n",
    "recording_preprocessed = preprocess_data(recording, freq_min=1, freq_max=100, notch_freq=50)\n",
    "print(\"Data preprocessed successfully.\")"
   ]
  },
  {
   "cell_type": "markdown",
   "metadata": {},
   "source": [
    "## Step 3: Time-Frequency Analysis\n",
    "We perform two types of time-frequency analysis:\n",
    "1. **Short-Time Fourier Transform (STFT)**\n",
    "2. **Wavelet Transform**"
   ]
  },
  {
   "cell_type": "code",
   "execution_count": null,
   "metadata": {},
   "outputs": [],
   "source": [
    "# STFT Analysis Module\n",
    "def time_frequency_analysis_stft(analog_signal, fs=1000, nperseg=256):\n",
    "    \"\"\"\n",
    "    Perform time-frequency analysis using Short-Time Fourier Transform (STFT).\n",
    "    \n",
    "    Args:\n",
    "    - analog_signal (neo.AnalogSignal): LFP data in Neo's AnalogSignal format.\n",
    "    - fs (int): Sampling frequency.\n",
    "    - nperseg (int): Length of each segment for STFT.\n",
    "    \n",
    "    Returns:\n",
    "    - f (np.ndarray): Frequency bins.\n",
    "    - t (np.ndarray): Time bins.\n",
    "    - Zxx (np.ndarray): STFT result.\n",
    "    \"\"\"\n",
    "    f, t, Zxx = signal.stft(analog_signal.magnitude.flatten(), fs=fs, nperseg=nperseg)\n",
    "    return f, t, Zxx\n",
    "\n",
    "# Perform STFT Analysis\n",
    "analog_signal = recording_preprocessed.get_traces().T[0] * pq.uV  # Example channel\n",
    "f, t, Zxx = time_frequency_analysis_stft(analog_signal, fs=fs)\n",
    "\n",
    "# Plot STFT\n",
    "plt.figure(figsize=(10, 6))\n",
    "plt.pcolormesh(t, f, np.abs(Zxx), shading='gouraud')\n",
    "plt.title('STFT Magnitude')\n",
    "plt.ylabel('Frequency [Hz]')\n",
    "plt.xlabel('Time [sec]')\n",
    "plt.colorbar(label='Magnitude')\n",
    "plt.show()"
   ]
  },
  {
   "cell_type": "markdown",
   "metadata": {},
   "source": [
    "### Wavelet Transform Analysis\n",
    "Wavelet Transforms allow multi-resolution analysis of the signal."
   ]
  },
  {
   "cell_type": "code",
   "execution_count": null,
   "metadata": {},
   "outputs": [],
   "source": [
    "# Wavelet Analysis Module\n",
    "def time_frequency_analysis_wavelet(analog_signal, wavelet='cmor', scales=np.arange(1, 128)):\n",
    "    \"\"\"\n",
    "    Perform time-frequency analysis using Wavelet Transform.\n",
    "    \n",
    "    Args:\n",
    "    - analog_signal (neo.AnalogSignal): LFP data in Neo's AnalogSignal format.\n",
    "    - wavelet (str): Type of wavelet to use (e.g., 'cmor').\n",
    "    - scales (np.ndarray): Scales to use in wavelet transform.\n",
    "    \n",
    "    Returns:\n",
    "    - coeffs (np.ndarray): Wavelet coefficients.\n",
    "    - freqs (np.ndarray): Frequencies corresponding to scales.\n",
    "    \"\"\"\n",
    "    coeffs, freqs = pywt.cwt(analog_signal.magnitude.flatten(), scales, wavelet)\n",
    "    return coeffs, freqs\n",
    "\n",
    "# Perform Wavelet Transform\n",
    "coeffs, freqs = time_frequency_analysis_wavelet(analog_signal)\n",
    "\n",
    "# Plot Wavelet Transform\n",
    "plt.figure(figsize=(10, 6))\n",
    "plt.imshow(np.abs(coeffs), extent=[0, len(analog_signal) / fs, freqs[-1], freqs[0]], aspect='auto', cmap='jet')\n",
    "plt.colorbar(label='Magnitude')\n",
    "plt.title('Wavelet Transform')\n",
    "plt.ylabel('Frequency [Hz]')\n",
    "plt.xlabel('Time [sec]')\n",
    "plt.show()"
   ]
  },
  {
   "cell_type": "markdown",
   "metadata": {},
   "source": [
    "## Coherence Analysis\n",
    "\n",
    "Coherence analysis quantifies the synchrony between two signals, which can provide insights into the functional connectivity between brain regions.\n"
   ]
  },
  {
   "cell_type": "code",
   "execution_count": null,
   "metadata": {},
   "outputs": [],
   "source": [
    "# Python Cell: Coherence Analysis\n",
    "from lfp_analysis import coherence_analysis\n",
    "\n",
    "# Assume we are comparing the same signal for simplicity in demonstration\n",
    "coherency, freqs_coherence = coherence_analysis(preprocessed_data, preprocessed_data)\n",
    "\n",
    "# Plot Coherence\n",
    "fig = px.line(x=freqs_coherence, y=coherency, labels={'x': 'Frequency (Hz)', 'y': 'Coherence'},\n",
    "              title='Coherence Analysis between Signals')\n",
    "fig.show()"
   ]
  },
  {
   "cell_type": "markdown",
   "metadata": {},
   "source": [
    "## Step 4: Coherence Analysis\n",
    "Assess the coherence between two LFP signals to understand interactions between different brain regions.\n"
   ]
  },
  {
   "cell_type": "code",
   "execution_count": null,
   "metadata": {},
   "outputs": [],
   "source": [
    "# Coherence Analysis Module\n",
    "def coherence_analysis(analog_signal1, analog_signal2, fs=1000):\n",
    "    \"\"\"\n",
    "    Assess coherence between two LFP signals.\n",
    "    \n",
    "    Args:\n",
    "    - analog_signal1 (neo.AnalogSignal): First LFP signal.\n",
    "    - analog_signal2 (neo.AnalogSignal): Second LFP signal.\n",
    "    - fs (int): Sampling frequency.\n",
    "    \n",
    "    Returns:\n",
    "    - f (np.ndarray): Frequency bins.\n",
    "    - Cxy (np.ndarray): Coherence values.\n",
    "    \"\"\"\n",
    "    f, Cxy = signal.coherence(analog_signal1.magnitude.flatten(), analog_signal2.magnitude.flatten(), fs=fs)\n",
    "    return f, Cxy\n",
    "\n",
    "# Perform Coherence Analysis\n",
    "analog_signal2 = analog_signal  # Example with the same signal; replace with another signal\n",
    "f_coherence, Cxy = coherence_analysis(analog_signal, analog_signal2)\n",
    "\n",
    "# Plot Coherence\n",
    "plt.figure(figsize=(10, 6))\n",
    "plt.plot(f_coherence, Cxy)\n",
    "plt.title('Coherence Analysis')\n",
    "plt.xlabel('Frequency [Hz]')\n",
    "plt.ylabel('Coherence')\n",
    "plt.show()"
   ]
  },
  {
   "cell_type": "markdown",
   "metadata": {},
   "source": [
    "## Step 5: Phase-Amplitude Coupling (PAC) Analysis\n",
    "Investigate the coupling between the phase of low-frequency oscillations and the amplitude of high-frequency oscillations.\n"
   ]
  },
  {
   "cell_type": "code",
   "execution_count": null,
   "metadata": {},
   "outputs": [],
   "source": [
    "# PAC Analysis Module\n",
    "def pac_analysis(analog_signal, low_freq=(4, 8), high_freq=(30, 100), fs=1000):\n",
    "    \"\"\"\n",
    "    Investigate Phase-Amplitude Coupling (PAC) in LFP signals.\n",
    "    \n",
    "    Args:\n",
    "    - analog_signal (neo.AnalogSignal): LFP data in Neo's AnalogSignal format.\n",
    "    - low_freq (tuple): Low-frequency range for phase extraction.\n",
    "    - high_freq (tuple): High-frequency range for amplitude extraction.\n",
    "    - fs (int): Sampling frequency.\n",
    "    \n",
    "    Returns:\n",
    "    - pac (float): Modulation index (MI) for PAC.\n",
    "    \"\"\"\n",
    "    pac = ephase.phase_amplitude_coupling(analog_signal, low_freq, high_freq, fs=fs)\n",
    "    return pac\n",
    "\n",
    "# Perform PAC Analysis\n",
    "pac = pac_analysis(analog_signal, low_freq=(4, 8), high_freq=(30, 100), fs=fs)\n",
    "print(f'PAC Modulation Index: {pac}')"
   ]
  },
  {
   "cell_type": "markdown",
   "metadata": {},
   "source": [
    "## Step 6: Cross-Frequency Coupling (CFC) Analysis\n",
    "Measure interactions between oscillatory activities at different frequencies."
   ]
  },
  {
   "cell_type": "code",
   "execution_count": null,
   "metadata": {},
   "outputs": [],
   "source": [
    "# CFC Analysis Module\n",
    "def cfc_analysis(analog_signal, fs=1000, phase_freqs=[(4, 8)], amplitude_freqs=[(30, 100)]):\n",
    "    \"\"\"\n",
    "    Perform Cross-Frequency Coupling (CFC) analysis.\n",
    "    \n",
    "    Args:\n",
    "    - analog_signal (neo.AnalogSignal): LFP data in Neo's AnalogSignal format.\n",
    "    - fs (int): Sampling frequency.\n",
    "    - phase_freqs (list of tuple): List of low-frequency ranges.\n",
    "    - amplitude_freqs (list of tuple): List of high-frequency ranges.\n",
    "    \n",
    "    Returns:\n",
    "    - cfc_matrix (np.ndarray): Matrix of CFC values.\n",
    "    \"\"\"\n",
    "    # Implement the CFC analysis\n",
    "    # Placeholder for the actual implementation\n",
    "    cfc_matrix = np.random.rand(len(phase_freqs), len(amplitude_freqs))  # Replace with actual calculation\n",
    "    return cfc_matrix\n",
    "\n",
    "# Perform CFC Analysis\n",
    "cfc_matrix = cfc_analysis(analog_signal, fs=fs)\n",
    "print(f'CFC Matrix:\\n{cfc_matrix}')"
   ]
  },
  {
   "cell_type": "markdown",
   "metadata": {},
   "source": [
    "## Conclusion\n",
    "In this notebook, we performed comprehensive Local Field Potential (LFP) analysis using Python and various scientific libraries. The steps included data loading, preprocessing, time-frequency analysis (STFT and Wavelet), coherence analysis, PAC, and CFC analysis. Each method offers a different insight into neural oscillations, rhythms, and interactions between brain regions."
   ]
  }
 ],
 "metadata": {
  "language_info": {
   "name": "python"
  }
 },
 "nbformat": 4,
 "nbformat_minor": 2
}
