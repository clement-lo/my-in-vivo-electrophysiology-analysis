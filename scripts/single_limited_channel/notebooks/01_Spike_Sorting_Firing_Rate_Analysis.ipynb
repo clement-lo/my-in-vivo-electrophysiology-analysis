{
 "cells": [
  {
   "cell_type": "markdown",
   "metadata": {},
   "source": [
    "# Spike Sorting and Firing Rate Analysis\n",
    "\n",
    "This notebook provides a step-by-step guide to performing spike sorting and firing rate analysis using in vivo electrophysiology data. It integrates well-established libraries like Neo, SpikeInterface, and Elephant for data handling, spike sorting, and advanced analysis. The analysis covers data loading, preprocessing, spike detection and sorting, feature extraction, firing rate analysis, and visualization of results."
   ]
  },
  {
   "cell_type": "markdown",
   "metadata": {},
   "source": [
    "## Setup and Prerequisites\n",
    "Ensure you have all the necessary libraries installed. If they are not already installed, you can use the following command to install them:"
   ]
  },
  {
   "cell_type": "code",
   "execution_count": null,
   "metadata": {},
   "outputs": [],
   "source": [
    "# Install required libraries (if not already installed)\n",
    "!pip install neo spikeinterface elephant matplotlib plotly\n",
    "\n",
    "# Import necessary libraries\n",
    "import neo\n",
    "import spikeinterface as si\n",
    "import spikeinterface.extractors as se\n",
    "import spikeinterface.sorters as ss\n",
    "import spikeinterface.postprocessing as spost\n",
    "import spikeinterface.curation as scu\n",
    "import elephant\n",
    "import matplotlib.pyplot as plt\n",
    "import plotly.graph_objects as go\n",
    "import numpy as np\n",
    "from spike_sorting_firing_rate_analysis import load_data, preprocess_data, perform_spike_sorting, extract_features, analyze_firing_rate, plot_results\n",
    "\n",
    "# Set plotly rendering in Jupyter Notebooks\n",
    "import plotly.io as pio\n",
    "pio.renderers.default = 'notebook'"
   ]
  },
  {
   "cell_type": "markdown",
   "metadata": {},
   "source": [
    "## Data Loading\n",
    "The first step is to load the raw electrophysiology data. We will use the `load_data` function from the Python script (`spike_sorting_firing_rate_analysis.py`) to load data in formats compatible with the Neo library."
   ]
  },
  {
   "cell_type": "code",
   "execution_count": null,
   "metadata": {},
   "outputs": [],
   "source": [
    "# Load the data using the Neo library and the load_data function from the script\n",
    "file_path = 'path/to/your/electrophysiology/data'\n",
    "block = load_data(file_path)\n",
    "\n",
    "# Display a summary of the loaded data\n",
    "print(block.segments)"
   ]
  },
  {
   "cell_type": "markdown",
   "metadata": {},
   "source": [
    "## Preprocessing\n",
    "\n",
    "Preprocessing the data is essential for reducing noise and enhancing signal quality. We will use the `preprocess_data` function to apply a band-pass filter to the raw data."
   ]
  },
  {
   "cell_type": "code",
   "execution_count": null,
   "metadata": {},
   "outputs": [],
   "source": [
    "# Preprocess the data (e.g., band-pass filtering)\n",
    "preprocessed_data = preprocess_data(block)\n",
    "\n",
    "# Plot raw and preprocessed signals for comparison\n",
    "plt.figure(figsize=(10, 6))\n",
    "plt.plot(block.segments[0].analogsignals[0], label='Raw Data', alpha=0.5)\n",
    "plt.plot(preprocessed_data, label='Preprocessed Data', alpha=0.75)\n",
    "plt.legend()\n",
    "plt.title('Raw vs. Preprocessed Data')\n",
    "plt.xlabel('Time (ms)')\n",
    "plt.ylabel('Amplitude (uV)')\n",
    "plt.show()"
   ]
  },
  {
   "cell_type": "markdown",
   "metadata": {},
   "source": [
    "## Spike Sorting\n",
    "\n",
    "Spike sorting is performed using SpikeInterface's spike sorting algorithms. The `perform_spike_sorting` function handles this process by applying a spike sorting method of your choice (e.g., Kilosort, HDSort)."
   ]
  },
  {
   "cell_type": "code",
   "execution_count": null,
   "metadata": {},
   "outputs": [],
   "source": [
    "# Perform spike sorting using SpikeInterface\n",
    "sorting = perform_spike_sorting(preprocessed_data)\n",
    "\n",
    "# Display sorting results\n",
    "print(sorting)"
   ]
  },
  {
   "cell_type": "markdown",
   "metadata": {},
   "source": [
    "## Feature Extraction\n",
    "\n",
    "Once spikes are sorted, we extract features from the spike waveforms for further analysis and visualization. The `extract_features` function computes features like principal components or waveform parameters."
   ]
  },
  {
   "cell_type": "code",
   "execution_count": null,
   "metadata": {},
   "outputs": [],
   "source": [
    "# Extract spike features for further analysis\n",
    "features = extract_features(sorting)\n",
    "\n",
    "# Plot feature distributions (e.g., PCA components)\n",
    "plt.figure(figsize=(8, 6))\n",
    "plt.scatter(features[:, 0], features[:, 1], c=sorting.get_unit_ids(), cmap='viridis', s=10)\n",
    "plt.title('Spike Features (PCA)')\n",
    "plt.xlabel('PC1')\n",
    "plt.ylabel('PC2')\n",
    "plt.show()"
   ]
  },
  {
   "cell_type": "markdown",
   "metadata": {},
   "source": [
    "## Firing Rate Analysis\n",
    "Analyzing the firing rate of neurons is crucial to understanding their activity patterns. We use the `analyze_firing_rate` function to calculate firing rates from sorted spikes and visualize them as histograms."
   ]
  },
  {
   "cell_type": "code",
   "execution_count": null,
   "metadata": {},
   "outputs": [],
   "source": [
    "# Analyze firing rates\n",
    "firing_rate_results = analyze_firing_rate(sorting)\n",
    "\n",
    "# Plot firing rate histograms\n",
    "firing_rate_results['histogram'].show()"
   ]
  },
  {
   "cell_type": "markdown",
   "metadata": {},
   "source": [
    "## Visualization of Results\n",
    "\n",
    "Advanced visualizations using Plotly provide interactive plots that enable dynamic exploration of the data. Below is an example of an interactive raster plot."
   ]
  },
  {
   "cell_type": "code",
   "execution_count": null,
   "metadata": {},
   "outputs": [],
   "source": [
    "# Interactive raster plot using Plotly\n",
    "raster_plot = go.Figure()\n",
    "for unit_id in sorting.get_unit_ids():\n",
    "    spike_times = sorting.get_unit_spike_train(unit_id=unit_id)\n",
    "    raster_plot.add_trace(go.Scatter(x=spike_times, y=[unit_id] * len(spike_times), mode='markers', name=f'Unit {unit_id}'))\n",
    "\n",
    "raster_plot.update_layout(title='Raster Plot of Sorted Spikes', xaxis_title='Time (ms)', yaxis_title='Unit ID')\n",
    "raster_plot.show()"
   ]
  }
 ],
 "metadata": {
  "language_info": {
   "name": "python"
  }
 },
 "nbformat": 4,
 "nbformat_minor": 2
}
