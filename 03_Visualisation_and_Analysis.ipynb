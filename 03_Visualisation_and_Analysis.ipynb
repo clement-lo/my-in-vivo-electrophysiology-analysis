{
 "cells": [
  {
   "cell_type": "code",
   "execution_count": null,
   "metadata": {},
   "outputs": [],
   "source": [
    "import numpy as np\n",
    "import matplotlib.pyplot as plt\n",
    "\n",
    "# Load spike data\n",
    "spike_features = np.load('data/processed/spike_features.npy')\n",
    "spike_labels = np.load('data/processed/spike_labels.npy')\n",
    "\n",
    "# Generate raster plot\n",
    "time_stamps = np.arange(len(filtered_data)) / 20000.0  # Assuming a 20kHz sampling rate\n",
    "raster_data = [time_stamps[spike_indices[spike_labels == label]] for label in np.unique(spike_labels)]\n",
    "\n",
    "plt.figure(figsize=(10, 6))\n",
    "for i, spikes in enumerate(raster_data):\n",
    "    plt.scatter(spikes, [i] * len(spikes), label=f'Neuron {i}', s=1)\n",
    "plt.xlabel('Time (s)')\n",
    "plt.ylabel('Neuron')\n",
    "plt.title('Raster Plot of Sorted Spikes')\n",
    "plt.legend()\n",
    "plt.show()\n",
    "\n",
    "# Generate ISI histogram for each cluster\n",
    "plt.figure(figsize=(10, 6))\n",
    "for label in np.unique(spike_labels):\n",
    "    isi = np.diff(time_stamps[spike_indices[spike_labels == label]])\n",
    "    plt.hist(isi, bins=50, alpha=0.5, label=f'Neuron {label}')\n",
    "plt.xlabel('Inter-Spike Interval (s)')\n",
    "plt.ylabel('Count')\n",
    "plt.title('Inter-Spike Interval Histogram')\n",
    "plt.legend()\n",
    "plt.show()"
   ]
  }
 ],
 "metadata": {
  "language_info": {
   "name": "python"
  }
 },
 "nbformat": 4,
 "nbformat_minor": 2
}
