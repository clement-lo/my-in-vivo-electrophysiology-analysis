{
 "cells": [
  {
   "cell_type": "code",
   "execution_count": null,
   "metadata": {},
   "outputs": [],
   "source": [
    "# Import necessary libraries\n",
    "import numpy as np\n",
    "import pandas as pd\n",
    "import matplotlib.pyplot as plt\n",
    "from scipy.signal import butter, filtfilt\n",
    "\n",
    "# Load the raw data (example file path)\n",
    "data = np.load('data/raw/electrophysiology_data.npy')  # Adjust for your dataset format\n",
    "\n",
    "# Define a bandpass filter for spike-band signals (e.g., 300-3000 Hz)\n",
    "def butter_bandpass(lowcut, highcut, fs, order=5):\n",
    "    nyq = 0.5 * fs\n",
    "    low = lowcut / nyq\n",
    "    high = highcut / nyq\n",
    "    b, a = butter(order, [low, high], btype='band')\n",
    "    return b, a\n",
    "\n",
    "def bandpass_filter(data, lowcut=300.0, highcut=3000.0, fs=20000.0, order=4):\n",
    "    b, a = butter_bandpass(lowcut, highcut, fs, order=order)\n",
    "    y = filtfilt(b, a, data)\n",
    "    return y\n",
    "\n",
    "# Apply bandpass filter\n",
    "filtered_data = bandpass_filter(data)\n",
    "\n",
    "# Plot the raw vs. filtered data\n",
    "plt.figure(figsize=(12, 6))\n",
    "plt.plot(data[:1000], label='Raw Data')\n",
    "plt.plot(filtered_data[:1000], label='Filtered Data')\n",
    "plt.xlabel('Time (samples)')\n",
    "plt.ylabel('Amplitude')\n",
    "plt.legend()\n",
    "plt.title('Comparison of Raw and Filtered Data')\n",
    "plt.show()\n",
    "\n",
    "# Save the filtered data for further analysis\n",
    "np.save('data/processed/filtered_data.npy', filtered_data)"
   ]
  }
 ],
 "metadata": {
  "language_info": {
   "name": "python"
  }
 },
 "nbformat": 4,
 "nbformat_minor": 2
}
